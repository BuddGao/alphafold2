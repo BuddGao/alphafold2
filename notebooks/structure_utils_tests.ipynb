{
 "cells": [
  {
   "cell_type": "markdown",
   "metadata": {},
   "source": [
    "<center><h2>Testing the Functionality of the <i>\"utils.py\"</i> Module</h2></center>"
   ]
  },
  {
   "cell_type": "code",
   "execution_count": 24,
   "metadata": {},
   "outputs": [
    {
     "data": {
      "text/plain": [
       "' Tetsing the following functionality: \\n    * metrics (rmsd, gdt_ts, gdt_ha, tmscore)\\n    * alignment (kabsch)\\n    * 3d coords (mds)\\n    -----\\n    The data files used contain the id of the original\\n    crystal structures from the RCSB PDB\\n'"
      ]
     },
     "execution_count": 24,
     "metadata": {},
     "output_type": "execute_result"
    }
   ],
   "source": [
    "\"\"\" Tetsing the following functionality: \n",
    "    * metrics (rmsd, gdt_ts, gdt_ha, tmscore)\n",
    "    * alignment (kabsch)\n",
    "    * 3d coords (mds)\n",
    "    -----\n",
    "    The data files used contain the id of the original\n",
    "    crystal structures from the RCSB PDB\n",
    "\"\"\""
   ]
  },
  {
   "cell_type": "code",
   "execution_count": 2,
   "metadata": {
    "scrolled": false
   },
   "outputs": [],
   "source": [
    "import os\n",
    "import sys\n",
    "# science\n",
    "import numpy as np\n",
    "import torch\n",
    "import matplotlib.pyplot as plt\n",
    "# molecular utils\n",
    "import mdtraj\n",
    "# functionality\n",
    "sys.path.append(\"../\")\n",
    "from alphafold2_pytorch.utils import *"
   ]
  },
  {
   "cell_type": "code",
   "execution_count": 3,
   "metadata": {},
   "outputs": [],
   "source": [
    "# load pdb file - has 1 more N_term than it should\n",
    "prot = mdtraj.load_pdb(\"data/1h22_protein_chain_1.pdb\").xyz[0].transpose()"
   ]
  },
  {
   "cell_type": "markdown",
   "metadata": {},
   "source": [
    "## Metrics"
   ]
  },
  {
   "cell_type": "code",
   "execution_count": 4,
   "metadata": {},
   "outputs": [],
   "source": [
    "# alter a small amount and measure metrics\n",
    "pred = prot + (2*np.random.rand(*prot.shape) - 1) * 1"
   ]
  },
  {
   "cell_type": "code",
   "execution_count": 5,
   "metadata": {},
   "outputs": [
    {
     "name": "stdout",
     "output_type": "stream",
     "text": [
      "rmsd is:  [0.57641759]\n",
      "gdt_ha is:  [0.64743763]\n",
      "gdt_ts is:  [0.88115307]\n",
      "tm_score is:  [0.99801202]\n",
      "rmsd is:  tensor([0.5764], dtype=torch.float64)\n",
      "gdt_ha is:  tensor([0.6474])\n",
      "gdt_ts is:  tensor([0.8812])\n",
      "tm_score is:  tensor([0.9980], dtype=torch.float64)\n"
     ]
    }
   ],
   "source": [
    "# Numpy\n",
    "rmsd     = RMSD(prot, pred)\n",
    "gdt_ha   = GDT(prot, pred, mode=\"HA\")\n",
    "gdt_ts   = GDT(prot, pred, mode=\"TS\")\n",
    "tm_score = TMscore(prot, pred)\n",
    "\n",
    "print(\"rmsd is: \", rmsd)\n",
    "print(\"gdt_ha is: \", gdt_ha)\n",
    "print(\"gdt_ts is: \", gdt_ts)\n",
    "print(\"tm_score is: \", tm_score)\n",
    "\n",
    "# Torch\n",
    "prot, pred = torch.tensor(prot), torch.tensor(pred)\n",
    "rmsd     = RMSD(prot, pred)\n",
    "gdt_ha   = GDT(prot, pred, mode=\"HA\")\n",
    "gdt_ts   = GDT(prot, pred, mode=\"TS\")\n",
    "tm_score = TMscore(prot, pred)\n",
    "\n",
    "print(\"rmsd is: \", rmsd)\n",
    "print(\"gdt_ha is: \", gdt_ha)\n",
    "print(\"gdt_ts is: \", gdt_ts)\n",
    "print(\"tm_score is: \", tm_score)"
   ]
  },
  {
   "cell_type": "markdown",
   "metadata": {},
   "source": [
    "## Alignment"
   ]
  },
  {
   "cell_type": "code",
   "execution_count": 6,
   "metadata": {},
   "outputs": [],
   "source": [
    "prot = prot.cpu().numpy()\n",
    "pred = pred.cpu().numpy()"
   ]
  },
  {
   "cell_type": "code",
   "execution_count": 7,
   "metadata": {},
   "outputs": [],
   "source": [
    "# rotation matrix\n",
    "R = np.array([[0.25581, -0.77351, 0.57986],\n",
    "              [-0.85333, -0.46255, -0.24057],\n",
    "              [0.45429, -0.43327, -0.77839]])"
   ]
  },
  {
   "cell_type": "code",
   "execution_count": 8,
   "metadata": {},
   "outputs": [],
   "source": [
    "# perturb protein (translation + rotation + random)\n",
    "pred = prot + (2*np.random.rand(*prot.shape) - 1) * 1 \n",
    "pred = np.dot(R, pred)"
   ]
  },
  {
   "cell_type": "code",
   "execution_count": 9,
   "metadata": {},
   "outputs": [
    {
     "data": {
      "text/plain": [
       "(tensor(0.5781, dtype=torch.float64), tensor(0.1680, dtype=torch.float64))"
      ]
     },
     "execution_count": 9,
     "metadata": {},
     "output_type": "execute_result"
    }
   ],
   "source": [
    "# check realignment works - torch\n",
    "pred_mod_, prot_mod_ = kabsch_torch(torch.tensor(pred).double(), torch.tensor(prot).double())\n",
    "rmsd_torch(prot_mod_, pred_mod_), tmscore_torch(prot_mod_, pred_mod_)"
   ]
  },
  {
   "cell_type": "code",
   "execution_count": 10,
   "metadata": {},
   "outputs": [
    {
     "data": {
      "text/plain": [
       "(0.5780659817276024, 0.167956858418738)"
      ]
     },
     "execution_count": 10,
     "metadata": {},
     "output_type": "execute_result"
    }
   ],
   "source": [
    "# check realignment works - numpy\n",
    "pred_mod, prot_mod = kabsch_numpy(pred, prot)\n",
    "rmsd_numpy(prot_mod, pred_mod), tmscore_numpy(prot_mod, pred_mod)"
   ]
  },
  {
   "cell_type": "markdown",
   "metadata": {},
   "source": [
    "## 3d Converter"
   ]
  },
  {
   "cell_type": "code",
   "execution_count": 11,
   "metadata": {},
   "outputs": [],
   "source": [
    "prot_traj = mdtraj.load_pdb(\"data/1h22_protein_chain_1.pdb\")"
   ]
  },
  {
   "cell_type": "code",
   "execution_count": 12,
   "metadata": {},
   "outputs": [],
   "source": [
    "prot = prot_traj.xyz[0].transpose()"
   ]
  },
  {
   "cell_type": "code",
   "execution_count": 13,
   "metadata": {},
   "outputs": [],
   "source": [
    "# works with a simple distance matrix for now\n",
    "prot = torch.tensor(prot)\n",
    "dist_mat = torch.cdist(prot.t(), prot.t())"
   ]
  },
  {
   "cell_type": "code",
   "execution_count": 14,
   "metadata": {},
   "outputs": [],
   "source": [
    "# plt.imshow(distogram, cmap=\"viridis_r\")"
   ]
  },
  {
   "cell_type": "code",
   "execution_count": 15,
   "metadata": {},
   "outputs": [
    {
     "data": {
      "text/plain": [
       "(torch.Size([1, 482]), torch.Size([1, 482]), torch.Size([1, 482]))"
      ]
     },
     "execution_count": 15,
     "metadata": {},
     "output_type": "execute_result"
    }
   ],
   "source": [
    "# select indices of backbone for angle calculation and selection\n",
    "N_mask  = torch.tensor( prot_traj.topology.select(\"name == N and backbone\") ).unsqueeze(0)\n",
    "CA_mask = torch.tensor( prot_traj.topology.select(\"name == CA and backbone\") ).unsqueeze(0) \n",
    "C_mask  = torch.tensor( prot_traj.topology.select(\"name == C and backbone\")  ).unsqueeze(0)\n",
    "CA_mask.shape, N_mask.shape, C_mask.shape"
   ]
  },
  {
   "cell_type": "code",
   "execution_count": 20,
   "metadata": {},
   "outputs": [
    {
     "name": "stdout",
     "output_type": "stream",
     "text": [
      "it: 0, stress tensor([1.1225e+08], grad_fn=<MulBackward0>)\n",
      "it: 1, stress tensor([56343384.], grad_fn=<MulBackward0>)\n",
      "it: 2, stress tensor([51373312.], grad_fn=<MulBackward0>)\n",
      "it: 3, stress tensor([48811872.], grad_fn=<MulBackward0>)\n",
      "it: 4, stress tensor([47531168.], grad_fn=<MulBackward0>)\n",
      "it: 5, stress tensor([46875780.], grad_fn=<MulBackward0>)\n",
      "it: 6, stress tensor([46521084.], grad_fn=<MulBackward0>)\n",
      "it: 7, stress tensor([46314308.], grad_fn=<MulBackward0>)\n",
      "it: 8, stress tensor([46179616.], grad_fn=<MulBackward0>)\n",
      "it: 9, stress tensor([46075668.], grad_fn=<MulBackward0>)\n",
      "it: 10, stress tensor([45977552.], grad_fn=<MulBackward0>)\n",
      "it: 11, stress tensor([45868520.], grad_fn=<MulBackward0>)\n",
      "it: 12, stress tensor([45734740.], grad_fn=<MulBackward0>)\n",
      "it: 13, stress tensor([45562076.], grad_fn=<MulBackward0>)\n",
      "it: 14, stress tensor([45334112.], grad_fn=<MulBackward0>)\n",
      "it: 15, stress tensor([45030676.], grad_fn=<MulBackward0>)\n",
      "it: 16, stress tensor([44626944.], grad_fn=<MulBackward0>)\n",
      "it: 17, stress tensor([44092844.], grad_fn=<MulBackward0>)\n",
      "it: 18, stress tensor([43393616.], grad_fn=<MulBackward0>)\n",
      "it: 19, stress tensor([42492032.], grad_fn=<MulBackward0>)\n",
      "it: 20, stress tensor([41351460.], grad_fn=<MulBackward0>)\n",
      "it: 21, stress tensor([39941036.], grad_fn=<MulBackward0>)\n",
      "it: 22, stress tensor([38242216.], grad_fn=<MulBackward0>)\n",
      "it: 23, stress tensor([36257560.], grad_fn=<MulBackward0>)\n",
      "it: 24, stress tensor([34018016.], grad_fn=<MulBackward0>)\n",
      "it: 25, stress tensor([31585496.], grad_fn=<MulBackward0>)\n",
      "it: 26, stress tensor([29045228.], grad_fn=<MulBackward0>)\n",
      "it: 27, stress tensor([26490276.], grad_fn=<MulBackward0>)\n",
      "it: 28, stress tensor([24001984.], grad_fn=<MulBackward0>)\n",
      "it: 29, stress tensor([21636848.], grad_fn=<MulBackward0>)\n",
      "it: 30, stress tensor([19424692.], grad_fn=<MulBackward0>)\n",
      "it: 31, stress tensor([17377648.], grad_fn=<MulBackward0>)\n",
      "it: 32, stress tensor([15501720.], grad_fn=<MulBackward0>)\n",
      "it: 33, stress tensor([13803377.], grad_fn=<MulBackward0>)\n",
      "it: 34, stress tensor([12286031.], grad_fn=<MulBackward0>)\n",
      "it: 35, stress tensor([10947528.], grad_fn=<MulBackward0>)\n",
      "it: 36, stress tensor([9778455.], grad_fn=<MulBackward0>)\n",
      "it: 37, stress tensor([8762243.], grad_fn=<MulBackward0>)\n",
      "it: 38, stress tensor([7876572.], grad_fn=<MulBackward0>)\n",
      "it: 39, stress tensor([7097735.], grad_fn=<MulBackward0>)\n",
      "it: 40, stress tensor([6404969.], grad_fn=<MulBackward0>)\n",
      "it: 41, stress tensor([5781932.], grad_fn=<MulBackward0>)\n",
      "it: 42, stress tensor([5216565.], grad_fn=<MulBackward0>)\n",
      "it: 43, stress tensor([4700458.5000], grad_fn=<MulBackward0>)\n",
      "it: 44, stress tensor([4227701.], grad_fn=<MulBackward0>)\n",
      "it: 45, stress tensor([3793649.7500], grad_fn=<MulBackward0>)\n",
      "it: 46, stress tensor([3394313.7500], grad_fn=<MulBackward0>)\n",
      "it: 47, stress tensor([3027285.], grad_fn=<MulBackward0>)\n",
      "it: 48, stress tensor([2690708.5000], grad_fn=<MulBackward0>)\n",
      "it: 49, stress tensor([2382540.5000], grad_fn=<MulBackward0>)\n",
      "Corrected mirror idxs: tensor([0])\n"
     ]
    }
   ],
   "source": [
    "sample = torch.cat([dist_mat.cpu().unsqueeze(0)]*1, dim=0)\n",
    "sample.requires_grad = True\n",
    "preds, stresses = MDScaling(sample,\n",
    "                            iters=50, tol=1e-5, fix_mirror=1, # eigen=True,\n",
    "                            N_mask=N_mask, CA_mask=CA_mask, C_mask=C_mask, verbose=2)"
   ]
  },
  {
   "cell_type": "code",
   "execution_count": 21,
   "metadata": {},
   "outputs": [
    {
     "data": {
      "text/plain": [
       "tensor([[[ 0.0000e+00,  6.1192e-09,  2.6883e-09,  ..., -7.8402e-09,\n",
       "          -1.2692e-10, -7.2127e-09],\n",
       "         [-6.1192e-09,  0.0000e+00, -8.2687e-09,  ..., -8.9109e-09,\n",
       "          -2.7819e-09, -8.7419e-09],\n",
       "         [-2.6883e-09,  8.2688e-09,  0.0000e+00,  ..., -8.5898e-09,\n",
       "          -7.0206e-10, -8.1828e-09],\n",
       "         ...,\n",
       "         [ 7.8401e-09,  8.9109e-09,  8.5898e-09,  ...,  0.0000e+00,\n",
       "           6.3062e-09,  1.8284e-09],\n",
       "         [ 1.2695e-10,  2.7818e-09,  7.0211e-10,  ..., -6.3061e-09,\n",
       "           0.0000e+00, -6.7814e-09],\n",
       "         [ 7.2126e-09,  8.7419e-09,  8.1828e-09,  ..., -1.8284e-09,\n",
       "           6.7815e-09,  0.0000e+00]]])"
      ]
     },
     "execution_count": 21,
     "metadata": {},
     "output_type": "execute_result"
    }
   ],
   "source": [
    "preds.mean().backward()\n",
    "sample.grad"
   ]
  },
  {
   "cell_type": "code",
   "execution_count": 17,
   "metadata": {},
   "outputs": [
    {
     "data": {
      "text/plain": [
       "tensor([[[-0.0000e+00,  8.0342e-03, -6.3801e-03,  ..., -1.9747e-01,\n",
       "          -1.8387e-01,  1.1395e-01],\n",
       "         [-1.4394e-04, -0.0000e+00,  2.6821e-06,  ...,  4.8150e-05,\n",
       "           1.0731e-04, -6.8197e-05],\n",
       "         [-1.0513e-03,  3.8257e-06,  0.0000e+00,  ..., -1.3700e-04,\n",
       "           1.7580e-04, -1.9789e-04],\n",
       "         ...,\n",
       "         [-3.2492e-04, -4.6058e-05,  2.4173e-05,  ...,  0.0000e+00,\n",
       "           4.7417e-06, -2.7610e-06],\n",
       "         [ 8.8929e-04, -9.7029e-05,  6.2248e-06,  ...,  7.8093e-06,\n",
       "           0.0000e+00, -1.6475e-06],\n",
       "         [ 1.5263e-03, -6.9711e-05,  3.9279e-06,  ...,  5.7547e-06,\n",
       "           6.1176e-07, -0.0000e+00]]])"
      ]
     },
     "execution_count": 17,
     "metadata": {},
     "output_type": "execute_result"
    }
   ],
   "source": [
    "preds.mean().backward()\n",
    "sample.grad"
   ]
  },
  {
   "cell_type": "code",
   "execution_count": null,
   "metadata": {},
   "outputs": [],
   "source": []
  },
  {
   "cell_type": "code",
   "execution_count": 19,
   "metadata": {},
   "outputs": [
    {
     "name": "stdout",
     "output_type": "stream",
     "text": [
      "it: 0, stress tensor([1.1152e+08])\n",
      "it: 1, stress tensor([56104596.])\n",
      "it: 2, stress tensor([51176800.])\n",
      "it: 3, stress tensor([48674864.])\n",
      "it: 4, stress tensor([47427816.])\n",
      "it: 5, stress tensor([46772392.])\n",
      "it: 6, stress tensor([46397636.])\n",
      "it: 7, stress tensor([46155412.])\n",
      "it: 8, stress tensor([45969724.])\n",
      "it: 9, stress tensor([45796812.])\n",
      "it: 10, stress tensor([45608376.])\n",
      "it: 11, stress tensor([45382128.])\n",
      "it: 12, stress tensor([45096744.])\n",
      "it: 13, stress tensor([44729080.])\n",
      "it: 14, stress tensor([44252712.])\n",
      "it: 15, stress tensor([43637248.])\n",
      "it: 16, stress tensor([42848764.])\n",
      "it: 17, stress tensor([41850924.])\n",
      "it: 18, stress tensor([40607208.])\n",
      "it: 19, stress tensor([39084876.])\n",
      "it: 20, stress tensor([37260368.])\n",
      "it: 21, stress tensor([35125392.])\n",
      "it: 22, stress tensor([32693424.])\n",
      "it: 23, stress tensor([30004392.])\n",
      "it: 24, stress tensor([27124824.])\n",
      "it: 25, stress tensor([24146340.])\n",
      "it: 26, stress tensor([21174760.])\n",
      "it: 27, stress tensor([18318620.])\n",
      "it: 28, stress tensor([15672954.])\n",
      "it: 29, stress tensor([13304720.])\n",
      "it: 30, stress tensor([11244878.])\n",
      "it: 31, stress tensor([9491866.])\n",
      "it: 32, stress tensor([8021140.])\n",
      "it: 33, stress tensor([6797990.5000])\n",
      "it: 34, stress tensor([5783461.])\n",
      "it: 35, stress tensor([4939330.5000])\n",
      "it: 36, stress tensor([4233583.5000])\n",
      "it: 37, stress tensor([3640544.7500])\n",
      "it: 38, stress tensor([3138639.])\n",
      "it: 39, stress tensor([2711228.5000])\n",
      "it: 40, stress tensor([2346492.2500])\n",
      "it: 41, stress tensor([2035693.7500])\n",
      "it: 42, stress tensor([1771826.1250])\n",
      "it: 43, stress tensor([1548312.7500])\n",
      "it: 44, stress tensor([1358391.5000])\n",
      "it: 45, stress tensor([1195305.1250])\n",
      "it: 46, stress tensor([1053459.5000])\n",
      "it: 47, stress tensor([929295.])\n",
      "it: 48, stress tensor([820770.6250])\n",
      "it: 49, stress tensor([726108.6250])\n",
      "it: 50, stress tensor([643357.0625])\n",
      "it: 51, stress tensor([570886.3125])\n",
      "it: 52, stress tensor([507396.])\n",
      "it: 53, stress tensor([451524.4375])\n",
      "it: 54, stress tensor([402014.])\n",
      "it: 55, stress tensor([358421.4688])\n",
      "it: 56, stress tensor([320944.1250])\n",
      "it: 57, stress tensor([289032.6250])\n",
      "it: 58, stress tensor([261228.1875])\n",
      "it: 59, stress tensor([236371.6406])\n",
      "it: 60, stress tensor([214258.1875])\n",
      "it: 61, stress tensor([195171.8125])\n",
      "it: 62, stress tensor([179048.1094])\n",
      "it: 63, stress tensor([165522.9062])\n",
      "it: 64, stress tensor([154075.8594])\n",
      "it: 65, stress tensor([144095.4531])\n",
      "it: 66, stress tensor([134880.6094])\n",
      "it: 67, stress tensor([125683.9375])\n",
      "it: 68, stress tensor([115812.4062])\n",
      "it: 69, stress tensor([104931.7422])\n",
      "it: 70, stress tensor([93518.0156])\n",
      "it: 71, stress tensor([82638.0938])\n",
      "it: 72, stress tensor([72808.5469])\n",
      "it: 73, stress tensor([63997.4609])\n",
      "it: 74, stress tensor([56610.0039])\n",
      "it: 75, stress tensor([51095.5312])\n",
      "it: 76, stress tensor([47219.3828])\n",
      "it: 77, stress tensor([44465.0352])\n",
      "it: 78, stress tensor([42458.5234])\n",
      "it: 79, stress tensor([40977.4219])\n",
      "it: 80, stress tensor([39875.4141])\n",
      "it: 81, stress tensor([39046.0391])\n",
      "it: 82, stress tensor([38408.8672])\n",
      "it: 83, stress tensor([37901.2656])\n",
      "it: 84, stress tensor([37472.1250])\n",
      "it: 85, stress tensor([37075.8711])\n",
      "it: 86, stress tensor([36665.1406])\n",
      "it: 87, stress tensor([36181.4375])\n",
      "it: 88, stress tensor([35541.2617])\n",
      "it: 89, stress tensor([34616.9297])\n",
      "it: 90, stress tensor([33203.1562])\n",
      "it: 91, stress tensor([30967.1680])\n",
      "it: 92, stress tensor([27437.0762])\n",
      "it: 93, stress tensor([22306.1367])\n",
      "it: 94, stress tensor([16082.7324])\n",
      "it: 95, stress tensor([10265.7441])\n",
      "it: 96, stress tensor([6136.7070])\n",
      "it: 97, stress tensor([3710.6506])\n",
      "it: 98, stress tensor([2345.6680])\n",
      "it: 99, stress tensor([1529.1481])\n",
      "Corrected mirror idxs: tensor([0])\n"
     ]
    }
   ],
   "source": [
    "preds, stresses = MDScaling(torch.cat([dist_mat.cpu().unsqueeze(0)]*1, dim=0),\n",
    "                            iters=10, tol=1e-5, fix_mirror=1,\n",
    "                            N_mask=N_mask, CA_mask=CA_mask, C_mask=C_mask, verbose=2)"
   ]
  },
  {
   "cell_type": "code",
   "execution_count": 20,
   "metadata": {
    "scrolled": false
   },
   "outputs": [
    {
     "name": "stdout",
     "output_type": "stream",
     "text": [
      "Corrected mirror idxs: tensor([0])\n"
     ]
    }
   ],
   "source": [
    "preds, stresses = MDScaling(dist_mat.cpu(), iters=5, tol=1e-5, fix_mirror=1, eigen=True,\n",
    "                            N_mask=N_mask, CA_mask=CA_mask, C_mask=C_mask, verbose=2)\n",
    "pred, stress = preds[0], stresses[0]"
   ]
  },
  {
   "cell_type": "code",
   "execution_count": 21,
   "metadata": {},
   "outputs": [
    {
     "name": "stdout",
     "output_type": "stream",
     "text": [
      "rmsd is:  [5.105982e-06]\n",
      "gdt_ha is:  [1.]\n",
      "gdt_ts is:  [1.]\n",
      "tm_score is:  [1.]\n"
     ]
    }
   ],
   "source": [
    "# check realignment works\n",
    "pred_mod, prot_mod = Kabsch(pred.numpy(), prot.numpy())\n",
    "# measure\n",
    "rmsd     = RMSD(prot_mod, pred_mod)\n",
    "gdt_ha   = GDT(prot_mod, pred_mod, mode=\"HA\")\n",
    "gdt_ts   = GDT(prot_mod, pred_mod, mode=\"TS\")\n",
    "tm_score = TMscore(prot_mod, pred_mod)\n",
    "\n",
    "print(\"rmsd is: \", rmsd)\n",
    "print(\"gdt_ha is: \", gdt_ha)\n",
    "print(\"gdt_ts is: \", gdt_ts)\n",
    "print(\"tm_score is: \", tm_score)"
   ]
  },
  {
   "cell_type": "markdown",
   "metadata": {},
   "source": [
    "## See reconstruction"
   ]
  },
  {
   "cell_type": "code",
   "execution_count": 22,
   "metadata": {},
   "outputs": [],
   "source": [
    "new_dist_mat = torch.cdist(pred.t(), pred.t())\n",
    "delta_dist   = new_dist_mat - dist_mat"
   ]
  },
  {
   "cell_type": "code",
   "execution_count": 23,
   "metadata": {},
   "outputs": [
    {
     "name": "stdout",
     "output_type": "stream",
     "text": [
      "Diffs: max = 0.0027621358167380095 and min -0.005524271633476019\n"
     ]
    },
    {
     "data": {
      "image/png": "[encoded data removed]",
      "text/plain": [
       "<Figure size 648x216 with 3 Axes>"
      ]
     },
     "metadata": {
      "needs_background": "light"
     },
     "output_type": "display_data"
    }
   ],
   "source": [
    "fig, ax = plt.subplots(1,3,figsize=(9, 3), sharey=True)\n",
    "cmap = plt.get_cmap(\"viridis_r\")\n",
    "\n",
    "ax[0].set_title(\"Original\")\n",
    "ax[0].imshow(dist_mat, cmap=\"viridis_r\")\n",
    "ax[1].set_title(\"Reconstructed\")\n",
    "ax[1].imshow(new_dist_mat, cmap=\"viridis_r\")\n",
    "ax[2].set_title(\"Difference\")\n",
    "ax[2].imshow(delta_dist, cmap=\"viridis_r\")\n",
    "\n",
    "\n",
    "print(\"Diffs: max = {0} and min {1}\".format(np.amax(delta_dist.numpy()),\n",
    "                                            np.amin(delta_dist.numpy()) ))"
   ]
  },
  {
   "cell_type": "code",
   "execution_count": 27,
   "metadata": {},
   "outputs": [],
   "source": [
    "# save pdb file and check manually here: \n",
    "# https://molstar.org/viewer/\n",
    "buffer_save = mdtraj.load(\"data/1h22_protein_chain_1.pdb\")\n",
    "buffer_save.xyz = pred_mod.T[None, :, :]\n",
    "buffer_save.save(\"data/save_to_check.pdb\")"
   ]
  },
  {
   "cell_type": "code",
   "execution_count": 28,
   "metadata": {},
   "outputs": [],
   "source": [
    "# save pdb file and check manually here: \n",
    "# https://molstar.org/viewer/\n",
    "buffer_save = mdtraj.load(\"data/1h22_protein_chain_1.pdb\")\n",
    "buffer_save.xyz = prot_mod.T[None, :, :]\n",
    "buffer_save.save(\"data/save_to_check_base.pdb\")"
   ]
  },
  {
   "cell_type": "markdown",
   "metadata": {},
   "source": [
    "Legend:\n",
    "* blue/purple: reference\n",
    "* green/orange: our reconstruction\n",
    "\n",
    "Comments: only small blue detail on the left. increase match by decreasing tolerance"
   ]
  },
  {
   "cell_type": "markdown",
   "metadata": {},
   "source": [
    "<img src=\"data/comparison.png\">"
   ]
  },
  {
   "cell_type": "code",
   "execution_count": null,
   "metadata": {},
   "outputs": [],
   "source": []
  },
  {
   "cell_type": "code",
   "execution_count": null,
   "metadata": {},
   "outputs": [],
   "source": []
  }
 ],
 "metadata": {
  "kernelspec": {
   "display_name": "Python 3",
   "language": "python",
   "name": "python3"
  },
  "language_info": {
   "codemirror_mode": {
    "name": "ipython",
    "version": 3
   },
   "file_extension": ".py",
   "mimetype": "text/x-python",
   "name": "python",
   "nbconvert_exporter": "python",
   "pygments_lexer": "ipython3",
   "version": "3.7.10"
  }
 },
 "nbformat": 4,
 "nbformat_minor": 4
}
