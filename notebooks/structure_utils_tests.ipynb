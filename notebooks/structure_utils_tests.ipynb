{
 "cells": [
  {
   "cell_type": "markdown",
   "metadata": {},
   "source": [
    "<center><h2>Testing the Functionality of the <i>\"utils.py\"</i> Module</h2></center>"
   ]
  },
  {
   "cell_type": "code",
   "execution_count": 1,
   "metadata": {},
   "outputs": [
    {
     "data": {
      "text/plain": [
       "' Tetsing the following functionality: \\n    * metrics (rmsd, gdt_ts, gdt_ha, tmscore)\\n    * alignment (kabsch)\\n    * 3d coords (mds)\\n    -----\\n    The data files used contain the id of the original\\n    crystal structures from the RCSB PDB\\n'"
      ]
     },
     "execution_count": 1,
     "metadata": {},
     "output_type": "execute_result"
    }
   ],
   "source": [
    "\"\"\" Tetsing the following functionality: \n",
    "    * metrics (rmsd, gdt_ts, gdt_ha, tmscore)\n",
    "    * alignment (kabsch)\n",
    "    * 3d coords (mds)\n",
    "    -----\n",
    "    The data files used contain the id of the original\n",
    "    crystal structures from the RCSB PDB\n",
    "\"\"\""
   ]
  },
  {
   "cell_type": "code",
   "execution_count": 4,
   "metadata": {
    "scrolled": false
   },
   "outputs": [],
   "source": [
    "import os\n",
    "import sys\n",
    "# science\n",
    "import numpy as np\n",
    "import torch\n",
    "import matplotlib.pyplot as plt\n",
    "# molecular utils\n",
    "import mdtraj\n",
    "# functionality\n",
    "sys.path.append(\"../\")\n",
    "from alphafold2_pytorch.utils import *"
   ]
  },
  {
   "cell_type": "code",
   "execution_count": 5,
   "metadata": {},
   "outputs": [],
   "source": [
    "# load pdb file - has 1 more N_term than it should\n",
    "prot = mdtraj.load_pdb(\"data/1h22_protein_chain_1.pdb\").xyz[0].transpose()"
   ]
  },
  {
   "cell_type": "markdown",
   "metadata": {},
   "source": [
    "## Metrics"
   ]
  },
  {
   "cell_type": "code",
   "execution_count": 6,
   "metadata": {},
   "outputs": [],
   "source": [
    "# alter a small amount and measure metrics\n",
    "pred = prot + (2*np.random.rand(*prot.shape) - 1) * 1"
   ]
  },
  {
   "cell_type": "code",
   "execution_count": 7,
   "metadata": {},
   "outputs": [
    {
     "name": "stdout",
     "output_type": "stream",
     "text": [
      "rmsd is:  [0.5748724]\n",
      "gdt_ha is:  [0.6480445]\n",
      "gdt_ts is:  [0.88098449]\n",
      "tm_score is:  [0.99802265]\n",
      "rmsd is:  tensor([0.5749], dtype=torch.float64)\n",
      "gdt_ha is:  tensor([0.6480])\n",
      "gdt_ts is:  tensor([0.8810])\n",
      "tm_score is:  tensor([0.9980], dtype=torch.float64)\n"
     ]
    }
   ],
   "source": [
    "# Numpy\n",
    "rmsd     = RMSD(prot, pred)\n",
    "gdt_ha   = GDT(prot, pred, mode=\"HA\")\n",
    "gdt_ts   = GDT(prot, pred, mode=\"TS\")\n",
    "tm_score = TMscore(prot, pred)\n",
    "\n",
    "print(\"rmsd is: \", rmsd)\n",
    "print(\"gdt_ha is: \", gdt_ha)\n",
    "print(\"gdt_ts is: \", gdt_ts)\n",
    "print(\"tm_score is: \", tm_score)\n",
    "\n",
    "# Torch\n",
    "prot, pred = torch.tensor(prot), torch.tensor(pred)\n",
    "rmsd     = RMSD(prot, pred)\n",
    "gdt_ha   = GDT(prot, pred, mode=\"HA\")\n",
    "gdt_ts   = GDT(prot, pred, mode=\"TS\")\n",
    "tm_score = TMscore(prot, pred)\n",
    "\n",
    "print(\"rmsd is: \", rmsd)\n",
    "print(\"gdt_ha is: \", gdt_ha)\n",
    "print(\"gdt_ts is: \", gdt_ts)\n",
    "print(\"tm_score is: \", tm_score)"
   ]
  },
  {
   "cell_type": "markdown",
   "metadata": {},
   "source": [
    "## Alignment"
   ]
  },
  {
   "cell_type": "code",
   "execution_count": 8,
   "metadata": {},
   "outputs": [],
   "source": [
    "prot = prot.cpu().numpy()\n",
    "pred = pred.cpu().numpy()"
   ]
  },
  {
   "cell_type": "code",
   "execution_count": 9,
   "metadata": {},
   "outputs": [],
   "source": [
    "# rotation matrix\n",
    "R = np.array([[0.25581, -0.77351, 0.57986],\n",
    "              [-0.85333, -0.46255, -0.24057],\n",
    "              [0.45429, -0.43327, -0.77839]])"
   ]
  },
  {
   "cell_type": "code",
   "execution_count": 10,
   "metadata": {},
   "outputs": [],
   "source": [
    "# perturb protein (translation + rotation + random)\n",
    "pred = prot + (2*np.random.rand(*prot.shape) - 1) * 1 \n",
    "pred = np.dot(R, pred)"
   ]
  },
  {
   "cell_type": "code",
   "execution_count": 11,
   "metadata": {},
   "outputs": [
    {
     "data": {
      "text/plain": [
       "(tensor(0.5767, dtype=torch.float64), tensor(0.1686, dtype=torch.float64))"
      ]
     },
     "execution_count": 11,
     "metadata": {},
     "output_type": "execute_result"
    }
   ],
   "source": [
    "# check realignment works - torch\n",
    "pred_mod_, prot_mod_ = kabsch_torch(torch.tensor(pred).double(), torch.tensor(prot).double())\n",
    "rmsd_torch(prot_mod_, pred_mod_), tmscore_torch(prot_mod_, pred_mod_)"
   ]
  },
  {
   "cell_type": "code",
   "execution_count": 12,
   "metadata": {},
   "outputs": [
    {
     "data": {
      "text/plain": [
       "(0.5766902895059659, 0.16862794558845348)"
      ]
     },
     "execution_count": 12,
     "metadata": {},
     "output_type": "execute_result"
    }
   ],
   "source": [
    "# check realignment works - numpy\n",
    "pred_mod, prot_mod = kabsch_numpy(pred, prot)\n",
    "rmsd_numpy(prot_mod, pred_mod), tmscore_numpy(prot_mod, pred_mod)"
   ]
  },
  {
   "cell_type": "markdown",
   "metadata": {},
   "source": [
    "## 3d Converter"
   ]
  },
  {
   "cell_type": "code",
   "execution_count": 13,
   "metadata": {},
   "outputs": [],
   "source": [
    "prot_traj = mdtraj.load_pdb(\"data/1h22_protein_chain_1.pdb\")"
   ]
  },
  {
   "cell_type": "code",
   "execution_count": 14,
   "metadata": {},
   "outputs": [],
   "source": [
    "prot = prot_traj.xyz[0].transpose()"
   ]
  },
  {
   "cell_type": "code",
   "execution_count": 15,
   "metadata": {},
   "outputs": [],
   "source": [
    "# works with a simple distance matrix for now\n",
    "prot = torch.tensor(prot)\n",
    "dist_mat = torch.cdist(prot.t(), prot.t())"
   ]
  },
  {
   "cell_type": "code",
   "execution_count": 16,
   "metadata": {},
   "outputs": [],
   "source": [
    "# plt.imshow(distogram, cmap=\"viridis_r\")"
   ]
  },
  {
   "cell_type": "code",
   "execution_count": 17,
   "metadata": {},
   "outputs": [
    {
     "data": {
      "text/plain": [
       "(torch.Size([1, 482]), torch.Size([1, 482]), torch.Size([1, 482]))"
      ]
     },
     "execution_count": 17,
     "metadata": {},
     "output_type": "execute_result"
    }
   ],
   "source": [
    "# select indices of backbone for angle calculation and selection\n",
    "N_mask  = torch.tensor( prot_traj.topology.select(\"name == N and backbone\") ).unsqueeze(0)\n",
    "CA_mask = torch.tensor( prot_traj.topology.select(\"name == CA and backbone\") ).unsqueeze(0) \n",
    "C_mask  = torch.tensor( prot_traj.topology.select(\"name == C and backbone\")  ).unsqueeze(0)\n",
    "CA_mask.shape, N_mask.shape, C_mask.shape"
   ]
  },
  {
   "cell_type": "code",
   "execution_count": null,
   "metadata": {},
   "outputs": [
    {
     "name": "stdout",
     "output_type": "stream",
     "text": [
      "it: 0, stress tensor([1.1152e+08])\n",
      "it: 1, stress tensor([56104596.])\n",
      "it: 2, stress tensor([51176800.])\n",
      "it: 3, stress tensor([48674864.])\n",
      "it: 4, stress tensor([47427816.])\n",
      "it: 5, stress tensor([46772392.])\n",
      "it: 6, stress tensor([46397636.])\n",
      "it: 7, stress tensor([46155412.])\n",
      "it: 8, stress tensor([45969724.])\n",
      "it: 9, stress tensor([45796812.])\n",
      "it: 10, stress tensor([45608376.])\n",
      "it: 11, stress tensor([45382128.])\n",
      "it: 12, stress tensor([45096744.])\n",
      "it: 13, stress tensor([44729080.])\n",
      "it: 14, stress tensor([44252712.])\n",
      "it: 15, stress tensor([43637248.])\n",
      "it: 16, stress tensor([42848764.])\n",
      "it: 17, stress tensor([41850924.])\n",
      "it: 18, stress tensor([40607208.])\n",
      "it: 19, stress tensor([39084876.])\n",
      "it: 20, stress tensor([37260368.])\n",
      "it: 21, stress tensor([35125392.])\n",
      "it: 22, stress tensor([32693424.])\n",
      "it: 23, stress tensor([30004392.])\n",
      "it: 24, stress tensor([27124824.])\n",
      "it: 25, stress tensor([24146340.])\n",
      "it: 26, stress tensor([21174760.])\n",
      "it: 27, stress tensor([18318620.])\n",
      "it: 28, stress tensor([15672954.])\n",
      "it: 29, stress tensor([13304720.])\n",
      "it: 30, stress tensor([11244878.])\n",
      "it: 31, stress tensor([9491866.])\n",
      "it: 32, stress tensor([8021140.])\n",
      "it: 33, stress tensor([6797990.5000])\n",
      "it: 34, stress tensor([5783461.])\n",
      "it: 35, stress tensor([4939330.5000])\n",
      "it: 36, stress tensor([4233583.5000])\n",
      "it: 37, stress tensor([3640544.7500])\n",
      "it: 38, stress tensor([3138639.])\n",
      "it: 39, stress tensor([2711228.5000])\n",
      "it: 40, stress tensor([2346492.2500])\n",
      "it: 41, stress tensor([2035693.7500])\n",
      "it: 42, stress tensor([1771826.1250])\n",
      "it: 43, stress tensor([1548312.7500])\n",
      "it: 44, stress tensor([1358391.5000])\n",
      "it: 45, stress tensor([1195305.1250])\n",
      "it: 46, stress tensor([1053459.5000])\n",
      "it: 47, stress tensor([929295.])\n",
      "it: 48, stress tensor([820770.6250])\n",
      "it: 49, stress tensor([726108.6250])\n",
      "it: 50, stress tensor([643357.0625])\n"
     ]
    }
   ],
   "source": [
    "preds, stresses = MDScaling(torch.cat([dist_mat.cpu().unsqueeze(0)]*1, dim=0),\n",
    "                            iters=100, tol=1e-5, fix_mirror=1,\n",
    "                            N_mask=N_mask, CA_mask=CA_mask, C_mask=C_mask, verbose=2)"
   ]
  },
  {
   "cell_type": "code",
   "execution_count": 20,
   "metadata": {
    "scrolled": false
   },
   "outputs": [
    {
     "name": "stdout",
     "output_type": "stream",
     "text": [
      "Corrected mirror idxs: tensor([0])\n"
     ]
    }
   ],
   "source": [
    "preds, stresses = MDScaling(dist_mat.cpu(), iters=5, tol=1e-5, fix_mirror=1, eigen=True,\n",
    "                            N_mask=N_mask, CA_mask=CA_mask, C_mask=C_mask, verbose=2)\n",
    "pred, stress = preds[0], stresses[0]"
   ]
  },
  {
   "cell_type": "code",
   "execution_count": 21,
   "metadata": {},
   "outputs": [
    {
     "name": "stdout",
     "output_type": "stream",
     "text": [
      "rmsd is:  [5.0704157e-06]\n",
      "gdt_ha is:  [1.]\n",
      "gdt_ts is:  [1.]\n",
      "tm_score is:  [1.]\n"
     ]
    }
   ],
   "source": [
    "# check realignment works\n",
    "pred_mod, prot_mod = Kabsch(pred.numpy(), prot.numpy())\n",
    "# measure\n",
    "rmsd     = RMSD(prot_mod, pred_mod)\n",
    "gdt_ha   = GDT(prot_mod, pred_mod, mode=\"HA\")\n",
    "gdt_ts   = GDT(prot_mod, pred_mod, mode=\"TS\")\n",
    "tm_score = TMscore(prot_mod, pred_mod)\n",
    "\n",
    "print(\"rmsd is: \", rmsd)\n",
    "print(\"gdt_ha is: \", gdt_ha)\n",
    "print(\"gdt_ts is: \", gdt_ts)\n",
    "print(\"tm_score is: \", tm_score)"
   ]
  },
  {
   "cell_type": "markdown",
   "metadata": {},
   "source": [
    "## See reconstruction"
   ]
  },
  {
   "cell_type": "code",
   "execution_count": 22,
   "metadata": {},
   "outputs": [],
   "source": [
    "new_dist_mat = torch.cdist(pred.t(), pred.t())\n",
    "delta_dist   = new_dist_mat - dist_mat"
   ]
  },
  {
   "cell_type": "code",
   "execution_count": 23,
   "metadata": {},
   "outputs": [
    {
     "name": "stdout",
     "output_type": "stream",
     "text": [
      "Diffs: max = 0.0027621358167380095 and min -0.005524271633476019\n"
     ]
    },
    {
     "data": {
      "image/png": "[encoded data removed]",
      "text/plain": [
       "<Figure size 648x216 with 3 Axes>"
      ]
     },
     "metadata": {
      "needs_background": "light"
     },
     "output_type": "display_data"
    }
   ],
   "source": [
    "fig, ax = plt.subplots(1,3,figsize=(9, 3), sharey=True)\n",
    "cmap = plt.get_cmap(\"viridis_r\")\n",
    "\n",
    "ax[0].set_title(\"Original\")\n",
    "ax[0].imshow(dist_mat, cmap=\"viridis_r\")\n",
    "ax[1].set_title(\"Reconstructed\")\n",
    "ax[1].imshow(new_dist_mat, cmap=\"viridis_r\")\n",
    "ax[2].set_title(\"Difference\")\n",
    "ax[2].imshow(delta_dist, cmap=\"viridis_r\")\n",
    "\n",
    "\n",
    "print(\"Diffs: max = {0} and min {1}\".format(np.amax(delta_dist.numpy()),\n",
    "                                            np.amin(delta_dist.numpy()) ))"
   ]
  },
  {
   "cell_type": "code",
   "execution_count": 27,
   "metadata": {},
   "outputs": [],
   "source": [
    "# save pdb file and check manually here: \n",
    "# https://molstar.org/viewer/\n",
    "buffer_save = mdtraj.load(\"data/1h22_protein_chain_1.pdb\")\n",
    "buffer_save.xyz = pred_mod.T[None, :, :]\n",
    "buffer_save.save(\"data/save_to_check.pdb\")"
   ]
  },
  {
   "cell_type": "code",
   "execution_count": 28,
   "metadata": {},
   "outputs": [],
   "source": [
    "# save pdb file and check manually here: \n",
    "# https://molstar.org/viewer/\n",
    "buffer_save = mdtraj.load(\"data/1h22_protein_chain_1.pdb\")\n",
    "buffer_save.xyz = prot_mod.T[None, :, :]\n",
    "buffer_save.save(\"data/save_to_check_base.pdb\")"
   ]
  },
  {
   "cell_type": "markdown",
   "metadata": {},
   "source": [
    "Legend:\n",
    "* blue/purple: reference\n",
    "* green/orange: our reconstruction\n",
    "\n",
    "Comments: only small blue detail on the left. increase match by decreasing tolerance"
   ]
  },
  {
   "cell_type": "markdown",
   "metadata": {},
   "source": [
    "<img src=\"data/comparison.png\">"
   ]
  },
  {
   "cell_type": "code",
   "execution_count": null,
   "metadata": {},
   "outputs": [],
   "source": []
  },
  {
   "cell_type": "code",
   "execution_count": null,
   "metadata": {},
   "outputs": [],
   "source": []
  }
 ],
 "metadata": {
  "kernelspec": {
   "display_name": "Python 3",
   "language": "python",
   "name": "python3"
  },
  "language_info": {
   "codemirror_mode": {
    "name": "ipython",
    "version": 3
   },
   "file_extension": ".py",
   "mimetype": "text/x-python",
   "name": "python",
   "nbconvert_exporter": "python",
   "pygments_lexer": "ipython3",
   "version": "3.7.10"
  }
 },
 "nbformat": 4,
 "nbformat_minor": 4
}
